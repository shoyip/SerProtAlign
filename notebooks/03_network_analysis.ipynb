{
 "cells": [
  {
   "cell_type": "code",
   "execution_count": 3,
   "id": "24b51eaa-9b36-4d11-8143-51927e8c65ea",
   "metadata": {},
   "outputs": [],
   "source": [
    "import json\n",
    "import networkx as nx"
   ]
  },
  {
   "cell_type": "code",
   "execution_count": 7,
   "id": "835083dc-f6cb-4226-bdc6-5f5f415566d1",
   "metadata": {},
   "outputs": [],
   "source": [
    "data_folder = '../data/'"
   ]
  },
  {
   "cell_type": "markdown",
   "id": "9eaee17e-3768-49f3-93c4-c8f62d674db4",
   "metadata": {},
   "source": [
    "# Sequence Similarity Network Analysis\n",
    "\n",
    "*Written by Shoichi Yip. Last updated: 6 December 2024.*\n",
    "\n",
    "It is necessary to install the `networkx` package."
   ]
  },
  {
   "cell_type": "code",
   "execution_count": 18,
   "id": "e18b90af-8f0e-4ac8-a033-2b97cd6a73c0",
   "metadata": {},
   "outputs": [],
   "source": [
    "DG = nx.read_graphml(data_folder + 'clustering/BLASTe38.graphml')"
   ]
  },
  {
   "cell_type": "code",
   "execution_count": 19,
   "id": "beb1b97b-2846-4c11-94dc-b614490f7385",
   "metadata": {},
   "outputs": [],
   "source": [
    "G = DG.to_undirected()"
   ]
  },
  {
   "cell_type": "code",
   "execution_count": 40,
   "id": "dfd4ec69-28c3-42b8-abee-f197a272275e",
   "metadata": {},
   "outputs": [],
   "source": [
    "c = list(nx.community.greedy_modularity_communities(G))"
   ]
  },
  {
   "cell_type": "code",
   "execution_count": 43,
   "id": "5373ca66-763c-40ca-87c4-7b7f572e5da2",
   "metadata": {},
   "outputs": [],
   "source": [
    "c_map = {}\n",
    "\n",
    "for c_id, nodes in enumerate(c):\n",
    "    for node in nodes:\n",
    "        c_map[node] = c_id"
   ]
  },
  {
   "cell_type": "code",
   "execution_count": 44,
   "id": "b6ec1d78-2e3e-44b7-a0e1-5c6796f63645",
   "metadata": {},
   "outputs": [],
   "source": [
    "nx.set_node_attributes(G, c_map, 'c_gmc')"
   ]
  },
  {
   "cell_type": "code",
   "execution_count": 45,
   "id": "b2a6d38b-e17c-4bb7-ac96-8a192e4c0604",
   "metadata": {},
   "outputs": [],
   "source": [
    "nx.write_graphml(G, data_folder + 'clustering/BLASTe38_c.graphml')"
   ]
  },
  {
   "cell_type": "code",
   "execution_count": 46,
   "id": "f3db6274-06ae-4252-97ee-a9a6c5bfec06",
   "metadata": {},
   "outputs": [],
   "source": [
    "c_louvain = list(nx.community.louvain_communities(G))"
   ]
  },
  {
   "cell_type": "code",
   "execution_count": 55,
   "id": "0f5411e0-08f1-44a8-ae80-d5500014bd25",
   "metadata": {},
   "outputs": [],
   "source": [
    "c_louvain_lengths = [len(e) for e in c_louvain]"
   ]
  },
  {
   "cell_type": "code",
   "execution_count": 57,
   "id": "1a3993ae-621c-4db9-a9a9-0cd5478110ca",
   "metadata": {},
   "outputs": [],
   "source": [
    "c_louvain_sorted_idx = sorted(range(len(c_louvain_lengths)), key=lambda i: c_louvain_lengths[i], reverse=True)"
   ]
  },
  {
   "cell_type": "code",
   "execution_count": 60,
   "id": "de7e4a6a-dc6d-494e-ad90-cc8657254ec5",
   "metadata": {},
   "outputs": [],
   "source": [
    "c_louvain = [c_louvain[i] for i in c_louvain_sorted_idx]"
   ]
  },
  {
   "cell_type": "code",
   "execution_count": 61,
   "id": "4a772b4f-3ca2-4687-99f6-b26e21a16a01",
   "metadata": {},
   "outputs": [],
   "source": [
    "c_map = {}\n",
    "\n",
    "for c_id, nodes in enumerate(c_louvain):\n",
    "    for node in nodes:\n",
    "        c_map[node] = c_id"
   ]
  },
  {
   "cell_type": "code",
   "execution_count": 62,
   "id": "472f6909-9394-41e1-8f79-e0f5fe97e53e",
   "metadata": {},
   "outputs": [],
   "source": [
    "nx.set_node_attributes(G, c_map, 'c_lou')"
   ]
  },
  {
   "cell_type": "code",
   "execution_count": 63,
   "id": "b39ebf72-e44c-4969-b37e-7e1ac431810d",
   "metadata": {},
   "outputs": [],
   "source": [
    "nx.write_graphml(G, data_folder + 'clustering/BLASTe38_c.graphml')"
   ]
  }
 ],
 "metadata": {
  "kernelspec": {
   "display_name": "Python 3 (ipykernel)",
   "language": "python",
   "name": "python3"
  },
  "language_info": {
   "codemirror_mode": {
    "name": "ipython",
    "version": 3
   },
   "file_extension": ".py",
   "mimetype": "text/x-python",
   "name": "python",
   "nbconvert_exporter": "python",
   "pygments_lexer": "ipython3",
   "version": "3.12.7"
  }
 },
 "nbformat": 4,
 "nbformat_minor": 5
}
