{
 "cells": [
  {
   "cell_type": "code",
   "execution_count": 1,
   "id": "3edb9b89-8b9c-4939-a9cc-f9f3b489a8b2",
   "metadata": {},
   "outputs": [],
   "source": [
    "from alntk.alignment import Alignment, filter_residues, delete_bjxz, compactify"
   ]
  },
  {
   "cell_type": "code",
   "execution_count": 2,
   "id": "e531dfbd-cbaa-4a62-9cdf-898b6231af70",
   "metadata": {},
   "outputs": [],
   "source": [
    "import numpy as np"
   ]
  },
  {
   "cell_type": "code",
   "execution_count": 3,
   "id": "757e6a11-0543-460a-8c4b-3a219f28b559",
   "metadata": {},
   "outputs": [],
   "source": [
    "aln = Alignment()"
   ]
  },
  {
   "cell_type": "code",
   "execution_count": 4,
   "id": "cf1ac0c0-a7e9-425a-b0bd-a995942f45de",
   "metadata": {},
   "outputs": [],
   "source": [
    "aln.import_from_fasta('../data/new_aln0.faa')"
   ]
  },
  {
   "cell_type": "code",
   "execution_count": 5,
   "id": "5e89219d-2e9b-4c9c-8883-ed7a67c51668",
   "metadata": {},
   "outputs": [
    {
     "name": "stdout",
     "output_type": "stream",
     "text": [
      "Number of sequences: 189304\n",
      "Number of positions: 823\n"
     ]
    }
   ],
   "source": [
    "aln.print_report()"
   ]
  },
  {
   "cell_type": "code",
   "execution_count": 10,
   "id": "58cf3ea1-44e9-446b-98c8-a0e9cd279ead",
   "metadata": {},
   "outputs": [
    {
     "data": {
      "text/plain": [
       "(61612,)"
      ]
     },
     "execution_count": 10,
     "metadata": {},
     "output_type": "execute_result"
    }
   ],
   "source": [
    "filter_residues(aln, 'TRY2_RAT', 'IVGG')[0].shape"
   ]
  },
  {
   "cell_type": "code",
   "execution_count": 11,
   "id": "63561668-a284-42c2-8cda-9bb1a3660c38",
   "metadata": {},
   "outputs": [
    {
     "data": {
      "text/plain": [
       "(array([   326,    327,    328, ..., 188810, 188828, 189055]), [])"
      ]
     },
     "execution_count": 11,
     "metadata": {},
     "output_type": "execute_result"
    }
   ],
   "source": [
    "delete_bjxz(aln)"
   ]
  },
  {
   "cell_type": "code",
   "execution_count": 7,
   "id": "0add61af-18ca-4c7a-a14c-f46341e1ad67",
   "metadata": {},
   "outputs": [],
   "source": [
    "aln_seqs = aln.get_seqs()"
   ]
  },
  {
   "cell_type": "markdown",
   "id": "aa997441-7120-49bf-a0d1-d801cf13d9c0",
   "metadata": {},
   "source": [
    "# Boh"
   ]
  },
  {
   "cell_type": "code",
   "execution_count": 7,
   "id": "10ad5a11-43fd-451b-8d5c-9d13e0530f1f",
   "metadata": {},
   "outputs": [],
   "source": [
    "aln_seqs = aln.get_seqs()"
   ]
  },
  {
   "cell_type": "code",
   "execution_count": 8,
   "id": "cf7c837a-85b2-4e65-9134-4c9ab1dd6047",
   "metadata": {},
   "outputs": [],
   "source": [
    "def find_pattern(text, pattern):\n",
    "    \"\"\"\n",
    "    \"\"\"\n",
    "    pattern = np.asarray(list(pattern))\n",
    "    \n",
    "    if len(pattern) > len(text):\n",
    "        return np.array([], dtype=int)\n",
    "    \n",
    "    # Create sliding window view of text\n",
    "    windows = np.lib.stride_tricks.as_strided(\n",
    "        text, \n",
    "        shape=(len(text) - len(pattern) + 1, len(pattern)),\n",
    "        strides=(text.strides[0], text.strides[0])\n",
    "    )\n",
    "    \n",
    "    # Find indices where windows match the pattern\n",
    "    match_indices = np.where(np.all(windows == pattern, axis=1))[0]\n",
    "    \n",
    "    return match_indices"
   ]
  },
  {
   "cell_type": "code",
   "execution_count": 10,
   "id": "75a38951-fe6d-43f4-b47f-ac2271e74b63",
   "metadata": {},
   "outputs": [],
   "source": [
    "aln_descs = aln.get_descs()"
   ]
  },
  {
   "cell_type": "code",
   "execution_count": 12,
   "id": "f6d4212e-7523-4dd2-9a48-b57d7e1a8c0a",
   "metadata": {},
   "outputs": [
    {
     "data": {
      "text/plain": [
       "(array([10986]),)"
      ]
     },
     "execution_count": 12,
     "metadata": {},
     "output_type": "execute_result"
    }
   ],
   "source": [
    "np.where(np.array([e.split('|')[2] for e in aln_descs]) == 'TRY2_RAT')"
   ]
  },
  {
   "cell_type": "code",
   "execution_count": 15,
   "id": "cfa7f8a8-ea55-45f5-b4fe-258f975cf0e2",
   "metadata": {},
   "outputs": [
    {
     "data": {
      "text/plain": [
       "array([130])"
      ]
     },
     "execution_count": 15,
     "metadata": {},
     "output_type": "execute_result"
    }
   ],
   "source": [
    "find_pattern(aln_seqs[10986], 'IVGG')"
   ]
  },
  {
   "cell_type": "code",
   "execution_count": 19,
   "id": "0f330308-d756-4ff8-a9bd-c6137154c4c9",
   "metadata": {},
   "outputs": [
    {
     "data": {
      "text/plain": [
       "array([0, 0, 0, ..., 4, 4, 4])"
      ]
     },
     "execution_count": 19,
     "metadata": {},
     "output_type": "execute_result"
    }
   ],
   "source": [
    "np.sum(aln_seqs[:, 130:134] == '-', axis=1)"
   ]
  }
 ],
 "metadata": {
  "kernelspec": {
   "display_name": "Python 3 (ipykernel)",
   "language": "python",
   "name": "python3"
  },
  "language_info": {
   "codemirror_mode": {
    "name": "ipython",
    "version": 3
   },
   "file_extension": ".py",
   "mimetype": "text/x-python",
   "name": "python",
   "nbconvert_exporter": "python",
   "pygments_lexer": "ipython3",
   "version": "3.12.7"
  }
 },
 "nbformat": 4,
 "nbformat_minor": 5
}
