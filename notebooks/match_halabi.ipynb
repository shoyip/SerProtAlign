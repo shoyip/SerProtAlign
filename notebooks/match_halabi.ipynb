{
 "cells": [
  {
   "cell_type": "code",
   "execution_count": 1,
   "id": "fb938e6e-d961-4e4e-9339-7b7cbb9c8f16",
   "metadata": {},
   "outputs": [],
   "source": [
    "from alntk.alignment import Alignment\n",
    "from alntk.plotting import default_plot_style\n",
    "\n",
    "import pandas as pd\n",
    "import matplotlib.pyplot as plt"
   ]
  },
  {
   "cell_type": "code",
   "execution_count": 2,
   "id": "d6bc3fc9-5fc3-43ef-8734-5230fdcac57b",
   "metadata": {},
   "outputs": [],
   "source": [
    "data_folder = '../data/'\n",
    "color_cycle = default_plot_style()"
   ]
  },
  {
   "cell_type": "markdown",
   "id": "934bb033-01b2-4841-8edb-f880b0cfafd3",
   "metadata": {},
   "source": [
    "# Try to do it on alignments..."
   ]
  },
  {
   "cell_type": "code",
   "execution_count": 5,
   "id": "855be1c7-c8b0-4d94-9e49-81524d576274",
   "metadata": {},
   "outputs": [],
   "source": [
    "aln_halabi = Alignment()\n",
    "aln_halabi.import_from_fasta(data_folder + 'serprot_ref.faa')"
   ]
  },
  {
   "cell_type": "code",
   "execution_count": 7,
   "id": "e0cc7f6f-2db2-43a1-a859-ab0865607a4a",
   "metadata": {},
   "outputs": [],
   "source": [
    "aln_hmmsearch = Alignment()\n",
    "aln_hmmsearch.import_from_fasta(data_folder + 'new_aln0.faa')"
   ]
  },
  {
   "cell_type": "code",
   "execution_count": 49,
   "id": "d211a7bd-3165-4b7b-b541-4df442550510",
   "metadata": {},
   "outputs": [],
   "source": [
    "import numpy as np"
   ]
  },
  {
   "cell_type": "code",
   "execution_count": 60,
   "id": "c0edf1b4-7e6b-4955-a4ec-a2957d46fad6",
   "metadata": {},
   "outputs": [],
   "source": [
    "nonzero_pos = np.where(np.sum(aln_halabi.get_seqs() != '-', axis=0) > 0)[0]"
   ]
  },
  {
   "cell_type": "code",
   "execution_count": 61,
   "id": "b2aa1849-b470-4cb9-91e2-92c99dd76728",
   "metadata": {},
   "outputs": [],
   "source": [
    "seqs_halabi = [''.join(e) for e in aln_halabi.get_seqs()[:, nonzero_pos]]\n",
    "seqs_hmmsearch = [''.join(e) for e in aln_hmmsearch.get_seqs()]"
   ]
  },
  {
   "cell_type": "code",
   "execution_count": 62,
   "id": "99aec127-6a51-481e-9e30-93f68dc84660",
   "metadata": {},
   "outputs": [],
   "source": [
    "df_halabi = pd.DataFrame({\n",
    "    'descs': aln_halabi.get_descs(),\n",
    "    'seqs': seqs_halabi\n",
    "})"
   ]
  },
  {
   "cell_type": "code",
   "execution_count": 63,
   "id": "0edc8d7d-3469-4527-84b4-21cc155d2a00",
   "metadata": {},
   "outputs": [],
   "source": [
    "df_hmmsearch = pd.DataFrame({\n",
    "    'descs': aln_hmmsearch.get_descs(),\n",
    "    'seqs': seqs_hmmsearch\n",
    "})"
   ]
  },
  {
   "cell_type": "code",
   "execution_count": 64,
   "id": "d92640e7-fd1a-46d2-85de-c5b20a619f51",
   "metadata": {},
   "outputs": [
    {
     "data": {
      "text/plain": [
       "823"
      ]
     },
     "execution_count": 64,
     "metadata": {},
     "output_type": "execute_result"
    }
   ],
   "source": [
    "len(df_hmmsearch.seqs.iloc[1])"
   ]
  },
  {
   "cell_type": "code",
   "execution_count": 65,
   "id": "109f684e-b73a-4cad-b201-268edf1273cb",
   "metadata": {},
   "outputs": [
    {
     "data": {
      "text/plain": [
       "823"
      ]
     },
     "execution_count": 65,
     "metadata": {},
     "output_type": "execute_result"
    }
   ],
   "source": [
    "len(df_halabi.seqs.iloc[0])"
   ]
  },
  {
   "cell_type": "code",
   "execution_count": 74,
   "id": "76122954-e521-4e28-9060-3c053ba63e60",
   "metadata": {},
   "outputs": [
    {
     "data": {
      "text/plain": [
       "set()"
      ]
     },
     "execution_count": 74,
     "metadata": {},
     "output_type": "execute_result"
    }
   ],
   "source": [
    "set(df_halabi.seqs).intersection(df_hmmsearch.seqs)"
   ]
  },
  {
   "cell_type": "code",
   "execution_count": 79,
   "id": "5e590f27-8984-44e4-b850-e03e6aef3b47",
   "metadata": {},
   "outputs": [
    {
     "data": {
      "text/plain": [
       "'IVGGYTCQENSVPYQVSLNSGYHFCGGSLINDQWVVSAAHCYKSRIQVRLGEHNINVLEGNEQFVNAAKIIKHPNFDRKTLNNDIMLIKLSSPVKLNARVATVALPSSCAPAGTQCLISGWGNTLSSGVNEPDLLQCLDAPLLPQADCEASYPGKITDNMVCVGFLEGGKDSCQGDSGGPVVCNGELQGIVSWGYGCALPDNPGVYTKVCNYVDWIQDTIAAN'"
      ]
     },
     "execution_count": 79,
     "metadata": {},
     "output_type": "execute_result"
    }
   ],
   "source": [
    "seqs_halabi[0].replace('-', '')"
   ]
  },
  {
   "cell_type": "markdown",
   "id": "35946cde-75c0-4227-ab2f-3136ce5bd859",
   "metadata": {},
   "source": [
    "# Just BLAST and pair"
   ]
  },
  {
   "cell_type": "code",
   "execution_count": 6,
   "id": "eeb9dd4a-7dc7-4e46-ad77-327c78667b20",
   "metadata": {},
   "outputs": [],
   "source": [
    "df = pd.read_csv(data_folder + 'match_halabi/match_output_reduced.csv', sep='\\t', header=None)\n",
    "df.columns = ['halabi_desc', 'hmmsearch_desc', 'evalue']"
   ]
  },
  {
   "cell_type": "code",
   "execution_count": 17,
   "id": "da338e1b-cd04-4444-aedd-be160fec8060",
   "metadata": {},
   "outputs": [
    {
     "data": {
      "text/html": [
       "<div>\n",
       "<style scoped>\n",
       "    .dataframe tbody tr th:only-of-type {\n",
       "        vertical-align: middle;\n",
       "    }\n",
       "\n",
       "    .dataframe tbody tr th {\n",
       "        vertical-align: top;\n",
       "    }\n",
       "\n",
       "    .dataframe thead th {\n",
       "        text-align: right;\n",
       "    }\n",
       "</style>\n",
       "<table border=\"1\" class=\"dataframe\">\n",
       "  <thead>\n",
       "    <tr style=\"text-align: right;\">\n",
       "      <th></th>\n",
       "      <th>halabi_desc</th>\n",
       "      <th>hmmsearch_desc</th>\n",
       "      <th>evalue</th>\n",
       "    </tr>\n",
       "  </thead>\n",
       "  <tbody>\n",
       "    <tr>\n",
       "      <th>0</th>\n",
       "      <td>gi|4139558|pdb|3TGI|E__vertebrate|warm|Rattus</td>\n",
       "      <td>sp|P00763|TRY2_RAT/3246</td>\n",
       "      <td>2.710000e-166</td>\n",
       "    </tr>\n",
       "    <tr>\n",
       "      <th>1</th>\n",
       "      <td>gi|4139558|pdb|3TGI|E__vertebrate|warm|Rattus</td>\n",
       "      <td>tr|A6IF27|A6IF27_RAT/3246</td>\n",
       "      <td>9.660000e-166</td>\n",
       "    </tr>\n",
       "    <tr>\n",
       "      <th>2</th>\n",
       "      <td>gi|4139558|pdb|3TGI|E__vertebrate|warm|Rattus</td>\n",
       "      <td>tr|A0A822IED2|A0A822IED2_9NEOB/3246</td>\n",
       "      <td>9.660000e-166</td>\n",
       "    </tr>\n",
       "    <tr>\n",
       "      <th>3</th>\n",
       "      <td>gi|4139558|pdb|3TGI|E__vertebrate|warm|Rattus</td>\n",
       "      <td>tr|W4VSR6|W4VSR6_RAT/2246</td>\n",
       "      <td>2.050000e-164</td>\n",
       "    </tr>\n",
       "    <tr>\n",
       "      <th>4</th>\n",
       "      <td>gi|4139558|pdb|3TGI|E__vertebrate|warm|Rattus</td>\n",
       "      <td>tr|A6IF30|A6IF30_RAT/2246</td>\n",
       "      <td>2.050000e-164</td>\n",
       "    </tr>\n",
       "    <tr>\n",
       "      <th>...</th>\n",
       "      <td>...</td>\n",
       "      <td>...</td>\n",
       "      <td>...</td>\n",
       "    </tr>\n",
       "    <tr>\n",
       "      <th>695394</th>\n",
       "      <td>gi|24660124__not</td>\n",
       "      <td>tr|I7I4B9|I7I4B9_SCYPA/30268</td>\n",
       "      <td>2.990000e-16</td>\n",
       "    </tr>\n",
       "    <tr>\n",
       "      <th>695395</th>\n",
       "      <td>gi|24660124__not</td>\n",
       "      <td>tr|A0A1I8M1T7|A0A1I8M1T7_MUSDO/28299</td>\n",
       "      <td>3.030000e-16</td>\n",
       "    </tr>\n",
       "    <tr>\n",
       "      <th>695396</th>\n",
       "      <td>gi|24660124__not</td>\n",
       "      <td>tr|A0A3G5BIH8|A0A3G5BIH8_DOLGE/3264</td>\n",
       "      <td>3.160000e-16</td>\n",
       "    </tr>\n",
       "    <tr>\n",
       "      <th>695397</th>\n",
       "      <td>gi|24660124__not</td>\n",
       "      <td>tr|Q8SYB5|Q8SYB5_DROME/26273</td>\n",
       "      <td>3.260000e-16</td>\n",
       "    </tr>\n",
       "    <tr>\n",
       "      <th>695398</th>\n",
       "      <td>gi|24660124__not</td>\n",
       "      <td>tr|A0A6P8K550|A0A6P8K550_DROMA/5271</td>\n",
       "      <td>3.300000e-16</td>\n",
       "    </tr>\n",
       "  </tbody>\n",
       "</table>\n",
       "<p>695399 rows × 3 columns</p>\n",
       "</div>"
      ],
      "text/plain": [
       "                                          halabi_desc  \\\n",
       "0       gi|4139558|pdb|3TGI|E__vertebrate|warm|Rattus   \n",
       "1       gi|4139558|pdb|3TGI|E__vertebrate|warm|Rattus   \n",
       "2       gi|4139558|pdb|3TGI|E__vertebrate|warm|Rattus   \n",
       "3       gi|4139558|pdb|3TGI|E__vertebrate|warm|Rattus   \n",
       "4       gi|4139558|pdb|3TGI|E__vertebrate|warm|Rattus   \n",
       "...                                               ...   \n",
       "695394                               gi|24660124__not   \n",
       "695395                               gi|24660124__not   \n",
       "695396                               gi|24660124__not   \n",
       "695397                               gi|24660124__not   \n",
       "695398                               gi|24660124__not   \n",
       "\n",
       "                              hmmsearch_desc         evalue  \n",
       "0                    sp|P00763|TRY2_RAT/3246  2.710000e-166  \n",
       "1                  tr|A6IF27|A6IF27_RAT/3246  9.660000e-166  \n",
       "2        tr|A0A822IED2|A0A822IED2_9NEOB/3246  9.660000e-166  \n",
       "3                  tr|W4VSR6|W4VSR6_RAT/2246  2.050000e-164  \n",
       "4                  tr|A6IF30|A6IF30_RAT/2246  2.050000e-164  \n",
       "...                                      ...            ...  \n",
       "695394          tr|I7I4B9|I7I4B9_SCYPA/30268   2.990000e-16  \n",
       "695395  tr|A0A1I8M1T7|A0A1I8M1T7_MUSDO/28299   3.030000e-16  \n",
       "695396   tr|A0A3G5BIH8|A0A3G5BIH8_DOLGE/3264   3.160000e-16  \n",
       "695397          tr|Q8SYB5|Q8SYB5_DROME/26273   3.260000e-16  \n",
       "695398   tr|A0A6P8K550|A0A6P8K550_DROMA/5271   3.300000e-16  \n",
       "\n",
       "[695399 rows x 3 columns]"
      ]
     },
     "execution_count": 17,
     "metadata": {},
     "output_type": "execute_result"
    }
   ],
   "source": [
    "df"
   ]
  },
  {
   "cell_type": "code",
   "execution_count": 26,
   "id": "a3d08101-2f64-4c81-9268-657c54290b38",
   "metadata": {},
   "outputs": [],
   "source": [
    "min_evalue_idx = df.groupby('halabi_desc')['evalue'].idxmin()"
   ]
  },
  {
   "cell_type": "code",
   "execution_count": 30,
   "id": "163ad287-1808-4e0b-ac17-ce58a0c2ffcb",
   "metadata": {},
   "outputs": [],
   "source": [
    "df_min = df.iloc[min_evalue_idx]"
   ]
  },
  {
   "cell_type": "code",
   "execution_count": 33,
   "id": "605963a7-4ae3-4b64-a5b7-200da1b33143",
   "metadata": {},
   "outputs": [
    {
     "name": "stderr",
     "output_type": "stream",
     "text": [
      "/tmp/ipykernel_18453/4003957553.py:1: SettingWithCopyWarning: \n",
      "A value is trying to be set on a copy of a slice from a DataFrame.\n",
      "Try using .loc[row_indexer,col_indexer] = value instead\n",
      "\n",
      "See the caveats in the documentation: https://pandas.pydata.org/pandas-docs/stable/user_guide/indexing.html#returning-a-view-versus-a-copy\n",
      "  df_min['gi_code'] = df_min.halabi_desc.apply(lambda x: x.split('|')[1].split('_')[0])\n"
     ]
    }
   ],
   "source": [
    "df_min['gi_code'] = df_min.halabi_desc.apply(lambda x: x.split('|')[1].split('_')[0])"
   ]
  },
  {
   "cell_type": "code",
   "execution_count": 34,
   "id": "a060a669-b47f-4ff9-b0c6-7e93a20b2654",
   "metadata": {},
   "outputs": [
    {
     "name": "stderr",
     "output_type": "stream",
     "text": [
      "/tmp/ipykernel_18453/1165234776.py:1: SettingWithCopyWarning: \n",
      "A value is trying to be set on a copy of a slice from a DataFrame.\n",
      "Try using .loc[row_indexer,col_indexer] = value instead\n",
      "\n",
      "See the caveats in the documentation: https://pandas.pydata.org/pandas-docs/stable/user_guide/indexing.html#returning-a-view-versus-a-copy\n",
      "  df_min['upkb_code'] = df_min.hmmsearch_desc.apply(lambda x: x.split('|')[1])\n"
     ]
    }
   ],
   "source": [
    "df_min['upkb_code'] = df_min.hmmsearch_desc.apply(lambda x: x.split('|')[1])"
   ]
  },
  {
   "cell_type": "code",
   "execution_count": 39,
   "id": "263e8e12-225c-4b09-9546-141bcd7ab451",
   "metadata": {},
   "outputs": [],
   "source": [
    "df_min[['gi_code', 'upkb_code']].reset_index(drop=True).to_csv(data_folder + 'halabi_newaln_mapping.csv', index=False)"
   ]
  }
 ],
 "metadata": {
  "kernelspec": {
   "display_name": "Python 3 (ipykernel)",
   "language": "python",
   "name": "python3"
  },
  "language_info": {
   "codemirror_mode": {
    "name": "ipython",
    "version": 3
   },
   "file_extension": ".py",
   "mimetype": "text/x-python",
   "name": "python",
   "nbconvert_exporter": "python",
   "pygments_lexer": "ipython3",
   "version": "3.9.19"
  }
 },
 "nbformat": 4,
 "nbformat_minor": 5
}
