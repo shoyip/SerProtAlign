{
 "cells": [
  {
   "cell_type": "code",
   "execution_count": 1,
   "id": "671a9c21-4039-4a8e-8715-4e358dc42e5f",
   "metadata": {},
   "outputs": [],
   "source": [
    "from alntk.alignment import import_from_fasta, get_unaligned_seqs, get_compact_alignment, write_to_fasta\n",
    "from alntk.plotting import default_plot_style"
   ]
  },
  {
   "cell_type": "code",
   "execution_count": 2,
   "id": "91ddcaf3-a3e7-4cb9-8293-06d83de30a4e",
   "metadata": {},
   "outputs": [],
   "source": [
    "import pandas as pd\n",
    "import numpy as np\n",
    "from scipy.sparse import coo_array\n",
    "import matplotlib as mpl\n",
    "import matplotlib.pyplot as plt"
   ]
  },
  {
   "cell_type": "code",
   "execution_count": 3,
   "id": "e806c063-9353-4915-97c2-235431c3d067",
   "metadata": {},
   "outputs": [],
   "source": [
    "color_cycle = default_plot_style()\n",
    "data_folder = '../data/'"
   ]
  },
  {
   "cell_type": "markdown",
   "id": "365f1c01-3cda-4d96-bda6-c268024858b4",
   "metadata": {},
   "source": [
    "# Compare the choices in iterative alignment\n",
    "\n",
    "As Olivier suggested, we can compare:\n",
    "\n",
    "- the alignment with all the sequences and all the positions\n",
    "- the alignment with all the sequences and the positions eliminated by the iterative process\n",
    "\n",
    "Let's see what kind of frequency vector and correlation matrix do these yield."
   ]
  },
  {
   "cell_type": "code",
   "execution_count": 4,
   "id": "70f4114d-86f4-43ab-ad69-cdc1adbf250f",
   "metadata": {},
   "outputs": [],
   "source": [
    "new_aln_descs, new_aln_seqs = import_from_fasta(data_folder + 'new_aln.faa')"
   ]
  },
  {
   "cell_type": "code",
   "execution_count": 5,
   "id": "0b16d369-a0b8-4328-b41f-42aa674da0dd",
   "metadata": {},
   "outputs": [],
   "source": [
    "subaln_size = 10_000"
   ]
  },
  {
   "cell_type": "code",
   "execution_count": 6,
   "id": "823ed428-7351-46db-a220-0b93223a2796",
   "metadata": {},
   "outputs": [],
   "source": [
    "np.random.seed(42)\n",
    "subsample_mask = np.random.randint(0, len(new_aln_descs), size=subaln_size)\n",
    "subaln_seqs = new_aln_seqs[subsample_mask]\n",
    "subaln_descs = new_aln_descs[subsample_mask]"
   ]
  },
  {
   "cell_type": "code",
   "execution_count": 7,
   "id": "02e60b73-5aa8-445b-a9ce-615f2c7a0068",
   "metadata": {},
   "outputs": [],
   "source": [
    "write_to_fasta(subaln_descs, subaln_seqs, data_folder + 'new_aln_subsample.faa')"
   ]
  },
  {
   "cell_type": "code",
   "execution_count": 20,
   "id": "490782fe-ffda-4a69-84de-e9f5ec10be72",
   "metadata": {},
   "outputs": [],
   "source": [
    "aas = np.array(list('-ACDEFGHIKLMNPQRSTVWY'))\n",
    "len_aas = len(aas)\n",
    "aas_to_num_dict = {}\n",
    "for k, v in dict(enumerate(aas)).items():\n",
    "    aas_to_num_dict[v] = k"
   ]
  },
  {
   "cell_type": "code",
   "execution_count": 21,
   "id": "72198ccd-a034-4b59-b929-7d1cd9f49e88",
   "metadata": {},
   "outputs": [],
   "source": [
    "def aas_to_num(a, aas_to_num_dict=aas_to_num_dict):\n",
    "    return np.vectorize(aas_to_num_dict.__getitem__)(a)"
   ]
  },
  {
   "cell_type": "code",
   "execution_count": 45,
   "id": "993d2740-404a-41a5-9760-c4eeca634c51",
   "metadata": {},
   "outputs": [],
   "source": [
    "subaln_num = aas_to_num(subaln_seqs)"
   ]
  },
  {
   "cell_type": "code",
   "execution_count": 46,
   "id": "e3415e76-5909-4de0-b5c9-5dc5f1d954e4",
   "metadata": {},
   "outputs": [
    {
     "data": {
      "text/plain": [
       "array([[ 8, 18,  6, ...,  0,  0,  0],\n",
       "       [ 8, 18,  6, ...,  0,  0,  0],\n",
       "       [ 8, 18,  6, ...,  0,  0,  0],\n",
       "       ...,\n",
       "       [18, 18, 12, ...,  0,  0,  0],\n",
       "       [18, 18,  6, ...,  0,  0,  0],\n",
       "       [ 8, 18, 16, ...,  0,  0,  0]])"
      ]
     },
     "execution_count": 46,
     "metadata": {},
     "output_type": "execute_result"
    }
   ],
   "source": [
    "subaln_num"
   ]
  },
  {
   "cell_type": "markdown",
   "id": "15e80331-2653-41c7-9660-9115e4d95c22",
   "metadata": {},
   "source": [
    "# SANDBOX"
   ]
  },
  {
   "cell_type": "code",
   "execution_count": 7,
   "id": "e1845c8c-3e32-4b0a-9196-60226da88517",
   "metadata": {},
   "outputs": [],
   "source": [
    "iterative_pos = np.array([0,1,2,3,35,36,37,38,39,40,82,83,84,85,86,87,88,89,90,91,92,93,94,110,111,112,113,114,115,116,117,118,119,120,121,122,129,130,131,132,133,134,147,148,149,150,151,152,153,154,155,156,179,180,181,182,183,184,185,186,187,188,189,190,191,192,193,194,195,218,219,220,221,222,223,224,225,226,227,228,229,230,231,232,233,234,235,236,237,238,239,262,263,264,265,266,267,268,269,270,271,272,273,274,275,276,277,278,280,281,282,283,307,308,309,310,311,312,313,333,334,335,336,337,338,352,353,354,355,356,357,358,359,360,367,368,369,370,371,372,373,374,375,376,377,378,379,380,381,382,399,400,401,421,422,423,424,425,430,431,433,434,435,436,437,438,439,440,441,469,470,471,472,473,474,475,476,477,478,494,495,496,497,498,499,500,501,502,503,504,505,506,507,508,509,510,520,521,522,523,524,525,526,527,528,530,531,532,533,534,535,536,537,538,544,545,546,547,548,549,550,551,552,553,554,555,556,557,563,564,565,566,567,568,569,575,576,577,578,579,580,581,582,583,584,591,592,593,594,595,596,597,598,599,600,601,602,603,604,605])"
   ]
  },
  {
   "cell_type": "code",
   "execution_count": 8,
   "id": "9ff415f8-27ad-4365-a51f-ca4fccffb328",
   "metadata": {},
   "outputs": [],
   "source": [
    "iter_subaln_seqs = subaln_seqs[:, iterative_pos]"
   ]
  },
  {
   "cell_type": "code",
   "execution_count": 9,
   "id": "d3af17fb-078c-48c6-8e8c-bf8ec2dea470",
   "metadata": {},
   "outputs": [],
   "source": [
    "subaln_ohe = pd.get_dummies(pd.DataFrame(subaln_seqs).T)"
   ]
  },
  {
   "cell_type": "code",
   "execution_count": 10,
   "id": "65ada655-bc35-40b0-9844-4e88672cfec3",
   "metadata": {},
   "outputs": [],
   "source": [
    "iter_subaln_ohe = pd.get_dummies(pd.DataFrame(iter_subaln_seqs).T)"
   ]
  },
  {
   "cell_type": "markdown",
   "id": "c01b460a-6e58-415d-9a07-c059ace5d84d",
   "metadata": {},
   "source": [
    "We have two matrices. There is a column for each element of the cartesian product Positions x Amino acids."
   ]
  },
  {
   "cell_type": "code",
   "execution_count": 12,
   "id": "ad5d4624-0465-42dc-b923-a75bd1fdaec6",
   "metadata": {},
   "outputs": [],
   "source": [
    "freq_matrix = np.zeros((subaln_size, len_aas))"
   ]
  },
  {
   "cell_type": "code",
   "execution_count": 13,
   "id": "42ae3c37-8bd2-4466-84da-90826601fc6f",
   "metadata": {},
   "outputs": [],
   "source": [
    "for k, v in subaln_ohe.sum().items():\n",
    "    pos_idx = int(k.split('_')[0])\n",
    "    aa_idx = np.where(k.split('_')[1] == aas)[0][0]\n",
    "    freq_matrix[pos_idx, aa_idx] = v / 693."
   ]
  },
  {
   "cell_type": "code",
   "execution_count": 14,
   "id": "58d934d9-15e2-4d5c-bc84-ea5417bc11a4",
   "metadata": {},
   "outputs": [],
   "source": [
    "corr_tensor = np.zeros((subaln_size, subaln_size, len_aas, len_aas))"
   ]
  },
  {
   "cell_type": "code",
   "execution_count": 15,
   "id": "2c8b8c2e-aac7-497f-88bb-f7ca950435dd",
   "metadata": {},
   "outputs": [],
   "source": [
    "for ki, vi in subaln_ohe.sum().items():\n",
    "    for kj, vj in subaln_ohe.sum().items():\n",
    "        pos_idx_i = int(ki.split('_')[0])\n",
    "        aa_idx_i = np.where(ki.split('_')[1] == aas)[0][0]\n",
    "        pos_idx_j = int(kj.split('_')[0])\n",
    "        aa_idx_j = np.where(kj.split('_')[1] == aas)[0][0]\n",
    "        corr_tensor[pos_idx_i, pos_idx_j, aa_idx_i, aa_idx_j] = v / (693. * 693.)"
   ]
  },
  {
   "cell_type": "markdown",
   "id": "5a764642-3252-4925-9b98-c710583a34f3",
   "metadata": {},
   "source": [
    "# Iter"
   ]
  },
  {
   "cell_type": "code",
   "execution_count": 16,
   "id": "39aaa661-e8c8-453d-8956-7bc61f76b80b",
   "metadata": {},
   "outputs": [
    {
     "data": {
      "text/plain": [
       "(100, 260)"
      ]
     },
     "execution_count": 16,
     "metadata": {},
     "output_type": "execute_result"
    }
   ],
   "source": [
    "iter_subaln_seqs.shape"
   ]
  },
  {
   "cell_type": "code",
   "execution_count": 17,
   "id": "728b9857-274a-4255-bdbc-c81b2443ccf1",
   "metadata": {},
   "outputs": [],
   "source": [
    "iter_freq_matrix = np.zeros((subaln_size, len_aas))"
   ]
  },
  {
   "cell_type": "code",
   "execution_count": 18,
   "id": "d51538e7-9d7d-4fe3-aa80-89cf1ebf6885",
   "metadata": {},
   "outputs": [],
   "source": [
    "for k, v in iter_subaln_ohe.sum().items():\n",
    "    pos_idx = int(k.split('_')[0])\n",
    "    aa_idx = np.where(k.split('_')[1] == aas)[0][0]\n",
    "    iter_freq_matrix[pos_idx, aa_idx] = v / 260."
   ]
  },
  {
   "cell_type": "code",
   "execution_count": 19,
   "id": "65de665a-ec15-48a1-aed4-d038fdb1d50c",
   "metadata": {},
   "outputs": [],
   "source": [
    "iter_corr_tensor = np.zeros((subaln_size, subaln_size, len_aas, len_aas))"
   ]
  },
  {
   "cell_type": "code",
   "execution_count": 20,
   "id": "46021fa2-b9bd-440a-8fa3-54a13a62c552",
   "metadata": {},
   "outputs": [],
   "source": [
    "for ki, vi in iter_subaln_ohe.sum().items():\n",
    "    for kj, vj in iter_subaln_ohe.sum().items():\n",
    "        pos_idx_i = int(ki.split('_')[0])\n",
    "        aa_idx_i = np.where(ki.split('_')[1] == aas)[0][0]\n",
    "        pos_idx_j = int(kj.split('_')[0])\n",
    "        aa_idx_j = np.where(kj.split('_')[1] == aas)[0][0]\n",
    "        iter_corr_tensor[pos_idx_i, pos_idx_j, aa_idx_i, aa_idx_j] = v / (260. * 260.)"
   ]
  }
 ],
 "metadata": {
  "kernelspec": {
   "display_name": "Python 3 (ipykernel)",
   "language": "python",
   "name": "python3"
  },
  "language_info": {
   "codemirror_mode": {
    "name": "ipython",
    "version": 3
   },
   "file_extension": ".py",
   "mimetype": "text/x-python",
   "name": "python",
   "nbconvert_exporter": "python",
   "pygments_lexer": "ipython3",
   "version": "3.12.7"
  }
 },
 "nbformat": 4,
 "nbformat_minor": 5
}
